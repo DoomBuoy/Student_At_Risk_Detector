{
  "cells": [
    {
      "cell_type": "markdown",
      "metadata": {
        "id": "uQ6wc2HE0pke"
      },
      "source": [
        "# **Experiment Notebook**\n",
        "\n"
      ]
    },
    {
      "cell_type": "markdown",
      "metadata": {
        "id": "KFVpE17Ahezu"
      },
      "source": [
        "---\n",
        "## 0. Setup Environment"
      ]
    },
    {
      "cell_type": "markdown",
      "metadata": {
        "id": "jM39DExClCc5"
      },
      "source": [
        "### 0.b Disable Warnings Messages"
      ]
    },
    {
      "cell_type": "code",
      "execution_count": 22,
      "metadata": {
        "id": "6FneOmBfka9G"
      },
      "outputs": [],
      "source": [
        "# Do not modify this code\n",
        "import warnings\n",
        "warnings.simplefilter(action='ignore')"
      ]
    },
    {
      "cell_type": "markdown",
      "metadata": {
        "id": "CgTrMfyylVLf"
      },
      "source": [
        "### 0.c Install Additional Packages\n",
        "\n",
        "> If you are using additional packages, you need to install them here using the command: `! pip install <package_name>`"
      ]
    },
    {
      "cell_type": "markdown",
      "metadata": {
        "id": "mXFKfa2tp1ch"
      },
      "source": [
        "### 0.d Import Packages"
      ]
    },
    {
      "cell_type": "code",
      "execution_count": 23,
      "metadata": {
        "id": "GBEAwdncnlAx"
      },
      "outputs": [],
      "source": [
        "\n",
        "import pandas as pd\n",
        "import altair as alt\n",
        "import numpy as np\n",
        "from sklearn.metrics import confusion_matrix, classification_report"
      ]
    },
    {
      "cell_type": "markdown",
      "metadata": {
        "id": "tQgxLRrvjiJb"
      },
      "source": [
        "---\n",
        "## A. Project Description\n"
      ]
    },
    {
      "cell_type": "markdown",
      "metadata": {
        "id": "4q1Bzcejvfpm"
      },
      "source": [
        "---\n",
        "## B. Experiment Description"
      ]
    },
    {
      "cell_type": "code",
      "execution_count": 24,
      "metadata": {},
      "outputs": [],
      "source": [
        "def print_tile(size=\"h3\", key=None, value=None):\n",
        "    \"\"\"\n",
        "    Display a formatted HTML tile in a Jupyter notebook.\n",
        "    Args:\n",
        "        size (str): HTML heading size, e.g., \"h1\", \"h2\", \"h3\".\n",
        "        key (str): Unique identifier for the tile.\n",
        "        value (str): Content to display in the tile.\n",
        "    \"\"\"\n",
        "    from IPython.display import display, HTML\n",
        "    html = f'<{size} id=\"{key}\">{value}</{size}>'\n",
        "    display(HTML(html))"
      ]
    },
    {
      "cell_type": "code",
      "execution_count": 25,
      "metadata": {
        "colab": {
          "base_uri": "https://localhost:8080/",
          "height": 98
        },
        "id": "dXpWo_-o21FD",
        "outputId": "5734bd06-ae64-4a67-8518-92bf07b4e707"
      },
      "outputs": [
        {
          "data": {
            "text/html": [
              "<h1 id=\"experiment_id\">2</h1>"
            ],
            "text/plain": [
              "<IPython.core.display.HTML object>"
            ]
          },
          "metadata": {},
          "output_type": "display_data"
        }
      ],
      "source": [
        "# Do not modify this code\n",
        "experiment_id = \"2\"\n",
        "print_tile(size=\"h1\", key='experiment_id', value=experiment_id)"
      ]
    },
    {
      "cell_type": "code",
      "execution_count": 26,
      "metadata": {
        "id": "qng9pUoU21Kp"
      },
      "outputs": [],
      "source": [
        "\n",
        "experiment_hypothesis = \"\"\"\n",
        "The hypothesis to test in this project is: **\"Student performance can be accurately predicted using key academic, behavioral, and socio-economic features such as GPA, study hours, social media usage, and attendance rates.\"** The question seeks to determine how well these factors correlate with and influence academic success, enabling classification into performance categories like \"Excellent,\" \"Good,\" \"Average,\" and \"Poor.\"\n",
        "\n",
        "This hypothesis is worthwhile because accurate predictions can allow institutions to identify at-risk students early, provide tailored interventions, and enhance academic outcomes. It also helps optimize resource allocation by focusing efforts on students who need the most support. By understanding the significant predictors of performance, institutions can make data-driven decisions, enhancing both individual student success and overall educational quality. This insight provides a robust foundation for sustainable improvements in academic strategies.\n",
        "\"\"\""
      ]
    },
    {
      "cell_type": "code",
      "execution_count": 27,
      "metadata": {
        "colab": {
          "base_uri": "https://localhost:8080/",
          "height": 162
        },
        "id": "3F9fpCzf21YI",
        "outputId": "75368b85-7a27-4179-8d12-e94e6777f3f7"
      },
      "outputs": [
        {
          "data": {
            "text/html": [
              "<h3 id=\"experiment_hypothesis\">\n",
              "The hypothesis to test in this project is: **\"Student performance can be accurately predicted using key academic, behavioral, and socio-economic features such as GPA, study hours, social media usage, and attendance rates.\"** The question seeks to determine how well these factors correlate with and influence academic success, enabling classification into performance categories like \"Excellent,\" \"Good,\" \"Average,\" and \"Poor.\"\n",
              "\n",
              "This hypothesis is worthwhile because accurate predictions can allow institutions to identify at-risk students early, provide tailored interventions, and enhance academic outcomes. It also helps optimize resource allocation by focusing efforts on students who need the most support. By understanding the significant predictors of performance, institutions can make data-driven decisions, enhancing both individual student success and overall educational quality. This insight provides a robust foundation for sustainable improvements in academic strategies.\n",
              "</h3>"
            ],
            "text/plain": [
              "<IPython.core.display.HTML object>"
            ]
          },
          "metadata": {},
          "output_type": "display_data"
        }
      ],
      "source": [
        "# Do not modify this code\n",
        "print_tile(size=\"h3\", key='experiment_hypothesis', value=experiment_hypothesis)"
      ]
    },
    {
      "cell_type": "code",
      "execution_count": 28,
      "metadata": {
        "id": "8Ke5AG7A21dx"
      },
      "outputs": [],
      "source": [
        "\n",
        "experiment_expectations = \"\"\"\n",
        "The expected outcome of the experiment is to create a model that predicts student performance categories—\"Excellent,\" \"Good,\" \"Average,\" \"Poor.\"\n",
        "### Possible Scenarios:\n",
        "1. **Best Case**: The model's performance improves, reaching over 80% accuracy with balanced metrics across all classes, enabling effective interventions for students.\n",
        "2. **Moderate Case**: Metrics remain skewed toward dominant classes (\"Poor\"), and minority classes like \"Excellent\" and \"Good\" have low recall, requiring adjustments in features or algorithms.\n",
        "3. **Worst Case**: The model fails to generalize, achieving accuracy below 50%, leading to misallocated resources and diminished institutional trust.\n",
        "\n",
        "These outcomes highlight the need for refining the model to improve predictions for minority classes while leveraging its strength in dominant categories.\n",
        "\n",
        "\"\"\""
      ]
    },
    {
      "cell_type": "code",
      "execution_count": 29,
      "metadata": {
        "colab": {
          "base_uri": "https://localhost:8080/",
          "height": 142
        },
        "id": "Aal6ECC821nJ",
        "outputId": "a8868c22-8970-4018-eb58-7a28b7a0064c"
      },
      "outputs": [
        {
          "data": {
            "text/html": [
              "<h3 id=\"experiment_expectations\">\n",
              "The expected outcome of the experiment is to create a model that predicts student performance categories—\"Excellent,\" \"Good,\" \"Average,\" \"Poor.\"\n",
              "### Possible Scenarios:\n",
              "1. **Best Case**: The model's performance improves, reaching over 80% accuracy with balanced metrics across all classes, enabling effective interventions for students.\n",
              "2. **Moderate Case**: Metrics remain skewed toward dominant classes (\"Poor\"), and minority classes like \"Excellent\" and \"Good\" have low recall, requiring adjustments in features or algorithms.\n",
              "3. **Worst Case**: The model fails to generalize, achieving accuracy below 50%, leading to misallocated resources and diminished institutional trust.\n",
              "\n",
              "These outcomes highlight the need for refining the model to improve predictions for minority classes while leveraging its strength in dominant categories.\n",
              "\n",
              "</h3>"
            ],
            "text/plain": [
              "<IPython.core.display.HTML object>"
            ]
          },
          "metadata": {},
          "output_type": "display_data"
        }
      ],
      "source": [
        "# Do not modify this code\n",
        "print_tile(size=\"h3\", key='experiment_expectations', value=experiment_expectations)"
      ]
    },
    {
      "cell_type": "markdown",
      "metadata": {
        "id": "P0zsEPshwy1K"
      },
      "source": [
        "---\n",
        "## C. Data Understanding"
      ]
    },
    {
      "cell_type": "code",
      "execution_count": 30,
      "metadata": {
        "id": "NKgOzSn-w0eq"
      },
      "outputs": [],
      "source": [
        "# Do not modify this code\n",
        "# Load training data\n",
        "try:\n",
        "  X_train = pd.read_csv('../data/processed/X_train.csv')\n",
        "  y_train = pd.read_csv('../data/processed/y_train.csv')\n",
        "\n",
        "  X_val = pd.read_csv('../data/processed/X_val.csv')\n",
        "  y_val = pd.read_csv('../data/processed/y_val.csv')\n",
        "\n",
        "  X_test = pd.read_csv('../data/processed/X_test.csv')\n",
        "  y_test = pd.read_csv('../data/processed/y_test.csv')\n",
        "except Exception as e:\n",
        "  print(e)"
      ]
    },
    {
      "cell_type": "markdown",
      "metadata": {
        "id": "_NCwQQFkU3v5"
      },
      "source": [
        "---\n",
        "## D. Feature Selection\n"
      ]
    },
    {
      "cell_type": "code",
      "execution_count": 31,
      "metadata": {
        "colab": {
          "base_uri": "https://localhost:8080/"
        },
        "id": "R927f1-2I8MO",
        "outputId": "5b72bf4c-3d17-4130-da3a-316f337d50b5"
      },
      "outputs": [
        {
          "name": "stdout",
          "output_type": "stream",
          "text": [
            "student_id                       -0.416043\n",
            "age                              -0.046171\n",
            "hsc_year                          0.188994\n",
            "current _semester                -0.184882\n",
            "study_hours                       0.236444\n",
            "social_media_hours               -0.443580\n",
            "average_attendance               -0.242111\n",
            "skills_development_hours         -0.048071\n",
            "previous_gpa                      0.687628\n",
            "current_gpa                      -0.542631\n",
            "completed_credits                -0.254523\n",
            "house_income                     -0.259291\n",
            "gpa_consistency                   0.332170\n",
            "social_media_impact               0.464983\n",
            "income_academic_score            -0.261522\n",
            "english_proficiency_encoded      -0.063948\n",
            "birth_country_AU                 -0.076070\n",
            "birth_country_BR                  0.007581\n",
            "birth_country_CA                 -0.033834\n",
            "birth_country_IE                  0.050013\n",
            "birth_country_IN                  0.051579\n",
            "birth_country_NZ                 -0.026911\n",
            "birth_country_PH                  0.005309\n",
            "birth_country_TH                  0.069651\n",
            "birth_country_US                  0.050013\n",
            "birth_country_ZA                  0.061342\n",
            "scholarship_No                   -0.329113\n",
            "scholarship_Yes                   0.329113\n",
            "university_transport_No          -0.045174\n",
            "university_transport_Yes          0.045174\n",
            "learning_mode_Offline             0.127438\n",
            "learning_mode_Online             -0.127438\n",
            "on_probation_No                   0.292227\n",
            "on_probation_Yes                 -0.292227\n",
            "is_suspended_No                   0.044970\n",
            "is_suspended_Yes                 -0.044970\n",
            "relationship_Engaged             -0.023254\n",
            "relationship_In a relationship   -0.194657\n",
            "relationship_Married             -0.127641\n",
            "relationship_Single               0.246625\n",
            "target                            1.000000\n",
            "Name: target, dtype: float64\n"
          ]
        }
      ],
      "source": [
        "\n",
        "train_data = pd.concat([X_train, y_train], axis=1)\n",
        "correlation_matrix = train_data.corr()\n",
        "\n",
        "correlation_with_y_train = correlation_matrix['target']\n",
        "\n",
        "# Print the correlations\n",
        "print(correlation_with_y_train)"
      ]
    },
    {
      "cell_type": "code",
      "execution_count": 32,
      "metadata": {
        "colab": {
          "base_uri": "https://localhost:8080/"
        },
        "id": "rOfWK-wZJBIm",
        "outputId": "f27b3dbe-6aa8-4091-f38c-b49dc4e32ed2"
      },
      "outputs": [
        {
          "data": {
            "text/plain": [
              "Index(['previous_gpa', 'current_gpa', 'social_media_impact',\n",
              "       'social_media_hours', 'student_id', 'gpa_consistency',\n",
              "       'scholarship_Yes', 'scholarship_No'],\n",
              "      dtype='object')"
            ]
          },
          "execution_count": 32,
          "metadata": {},
          "output_type": "execute_result"
        }
      ],
      "source": [
        "sorted_correlation = correlation_with_y_train.drop('target').abs().sort_values(ascending=False)\n",
        "\n",
        "# Select the top 8 columns\n",
        "top_8_columns = sorted_correlation.head(8).index\n",
        "top_8_columns\n"
      ]
    },
    {
      "cell_type": "code",
      "execution_count": 33,
      "metadata": {
        "colab": {
          "base_uri": "https://localhost:8080/"
        },
        "id": "zfC-DLKv4AuM",
        "outputId": "f501b693-909f-4a70-9195-56c5eda409d0"
      },
      "outputs": [
        {
          "data": {
            "text/plain": [
              "Index(['student_id', 'age', 'hsc_year', 'current _semester', 'study_hours',\n",
              "       'social_media_hours', 'average_attendance', 'skills_development_hours',\n",
              "       'previous_gpa', 'current_gpa', 'completed_credits', 'house_income',\n",
              "       'gpa_consistency', 'social_media_impact', 'income_academic_score',\n",
              "       'english_proficiency_encoded', 'birth_country_AU', 'birth_country_BR',\n",
              "       'birth_country_CA', 'birth_country_IE', 'birth_country_IN',\n",
              "       'birth_country_NZ', 'birth_country_PH', 'birth_country_TH',\n",
              "       'birth_country_US', 'birth_country_ZA', 'scholarship_No',\n",
              "       'scholarship_Yes', 'university_transport_No',\n",
              "       'university_transport_Yes', 'learning_mode_Offline',\n",
              "       'learning_mode_Online', 'on_probation_No', 'on_probation_Yes',\n",
              "       'is_suspended_No', 'is_suspended_Yes', 'relationship_Engaged',\n",
              "       'relationship_In a relationship', 'relationship_Married',\n",
              "       'relationship_Single'],\n",
              "      dtype='object')"
            ]
          },
          "execution_count": 33,
          "metadata": {},
          "output_type": "execute_result"
        }
      ],
      "source": [
        "# Getting the list of column in the X_train df\n",
        "features_list = X_train.columns\n",
        "features_list\n"
      ]
    },
    {
      "cell_type": "code",
      "execution_count": 34,
      "metadata": {
        "id": "ZHaIRLAj2_fj"
      },
      "outputs": [],
      "source": [
        "\n",
        "feature_selection_explanations = \"\"\"### Feature Selection Rationale\n",
        "*note all the numerical value are approximate and are subject to change due to randomness*\n",
        "#### **Selected Features**\n",
        "The features chosen for the model—`study_hours`, `social_media_hours`, `previous_gpa`, `current_gpa`, and `on_probation_No`—have strong correlations with the target variable and high predictive relevance. For example:\n",
        "- **`Previous_gpa`**: With a correlation of 0.688, this feature is the strongest predictor of academic performance, reflecting prior achievements.\n",
        "- **`Current_gpa`**: This complements `previous_gpa` with a correlation of -0.543, offering insights into ongoing trends.\n",
        "- **`Social_media_hours`**: Correlated at -0.443, this helps capture behavioral patterns that may negatively impact academic outcomes.\n",
        "- **`Study_hours`**: Correlated at 0.236, this feature provides direct input on time invested in academics.\n",
        "- **`On_probation_No`**: Adds categorical context related to academic status, enhancing predictive accuracy.\n",
        "\n",
        "#### **Reasons for Removing Features**\n",
        "Other features were excluded due to:\n",
        "1. **Weak Correlations**:\n",
        "   - Features like `age` (-0.046) and `skills_development_hours` (-0.048) show negligible relationships with the target variable, contributing little to the model's performance.\n",
        "\n",
        "2. **High Cardinality and Redundancy**:\n",
        "   - Features such as `birth_country` and `relationship_status` add complexity without significant predictive value.\n",
        "\n",
        "3. **Potential Noise**:\n",
        "   - Features like `house_income` (-0.259) and `average_attendance` (-0.242) are less directly connected to academic outcomes and could introduce unnecessary noise into the model.\n",
        "\"\"\""
      ]
    },
    {
      "cell_type": "code",
      "execution_count": 35,
      "metadata": {
        "colab": {
          "base_uri": "https://localhost:8080/",
          "height": 203
        },
        "id": "GXCmXWx62_kZ",
        "outputId": "f60fe5a9-0417-4dbb-8d5f-8dd18a738f46"
      },
      "outputs": [
        {
          "data": {
            "text/html": [
              "<h3 id=\"feature_selection_explanations\">### Feature Selection Rationale\n",
              "*note all the numerical value are approximate and are subject to change due to randomness*\n",
              "#### **Selected Features**\n",
              "The features chosen for the model—`study_hours`, `social_media_hours`, `previous_gpa`, `current_gpa`, and `on_probation_No`—have strong correlations with the target variable and high predictive relevance. For example:\n",
              "- **`Previous_gpa`**: With a correlation of 0.688, this feature is the strongest predictor of academic performance, reflecting prior achievements.\n",
              "- **`Current_gpa`**: This complements `previous_gpa` with a correlation of -0.543, offering insights into ongoing trends.\n",
              "- **`Social_media_hours`**: Correlated at -0.443, this helps capture behavioral patterns that may negatively impact academic outcomes.\n",
              "- **`Study_hours`**: Correlated at 0.236, this feature provides direct input on time invested in academics.\n",
              "- **`On_probation_No`**: Adds categorical context related to academic status, enhancing predictive accuracy.\n",
              "\n",
              "#### **Reasons for Removing Features**\n",
              "Other features were excluded due to:\n",
              "1. **Weak Correlations**:\n",
              "   - Features like `age` (-0.046) and `skills_development_hours` (-0.048) show negligible relationships with the target variable, contributing little to the model's performance.\n",
              "\n",
              "2. **High Cardinality and Redundancy**:\n",
              "   - Features such as `birth_country` and `relationship_status` add complexity without significant predictive value.\n",
              "\n",
              "3. **Potential Noise**:\n",
              "   - Features like `house_income` (-0.259) and `average_attendance` (-0.242) are less directly connected to academic outcomes and could introduce unnecessary noise into the model.\n",
              "</h3>"
            ],
            "text/plain": [
              "<IPython.core.display.HTML object>"
            ]
          },
          "metadata": {},
          "output_type": "display_data"
        }
      ],
      "source": [
        "# Do not modify this code\n",
        "print_tile(size=\"h3\", key='feature_selection_explanations', value=feature_selection_explanations)"
      ]
    },
    {
      "cell_type": "markdown",
      "metadata": {
        "id": "j-nNSpJK0Rgu"
      },
      "source": [
        "---\n",
        "## E. Data Preparation"
      ]
    },
    {
      "cell_type": "markdown",
      "metadata": {
        "id": "EDtRq1990rcW"
      },
      "source": [
        "### E.1 Data Transformation <put_name_here>\n"
      ]
    },
    {
      "cell_type": "code",
      "execution_count": null,
      "metadata": {
        "id": "AZN0u9DD0v5X"
      },
      "outputs": [],
      "source": []
    },
    {
      "cell_type": "code",
      "execution_count": 36,
      "metadata": {
        "id": "8MrtSA6uu4Pu"
      },
      "outputs": [],
      "source": [
        "from re import X\n",
        "from sklearn.preprocessing import RobustScaler\n",
        "\n",
        "# Initialize the Robust Scaler\n",
        "scaler = RobustScaler()\n",
        "\n",
        "# Apply scaling to X_train\n",
        "X_train_robust = scaler.fit_transform(X_train)\n",
        "\n",
        "# Convert back to DataFrame for readability\n",
        "X_train_robust_df = pd.DataFrame(X_train_robust, columns=X_train.columns)\n",
        "\n",
        "X_train=X_train_robust_df.copy()"
      ]
    },
    {
      "cell_type": "code",
      "execution_count": 37,
      "metadata": {
        "colab": {
          "base_uri": "https://localhost:8080/"
        },
        "id": "-9HbhF6bu4I6",
        "outputId": "3fe666f3-f36b-4a69-e0c8-a3963bab147a"
      },
      "outputs": [
        {
          "name": "stdout",
          "output_type": "stream",
          "text": [
            "\n",
            "Robustly Scaled X_test:\n",
            "      student_id       age  hsc_year  current _semester  study_hours  \\\n",
            "0      0.335521 -0.757605  1.743181          -0.236997    -0.530365   \n",
            "1      0.132840 -0.395187  0.300273          -0.236997     0.360523   \n",
            "2      0.603412 -1.120024  1.743181          -0.236997    -0.975809   \n",
            "3      0.596362  0.692068  1.021727          -0.236997     0.805967   \n",
            "4      0.659810 -0.395187  0.300273          -0.236997     0.805967   \n",
            "..          ...       ...       ...                ...          ...   \n",
            "145   -0.290146 -1.120024  1.743181           1.449055     0.360523   \n",
            "146   -0.596811 -0.395187  1.743181           1.449055    -0.530365   \n",
            "147   -0.357119 -0.395187  1.021727           1.449055    -0.530365   \n",
            "148   -0.468152 -1.120024  1.021727           1.449055    -0.530365   \n",
            "149    0.094066  0.692068 -3.306997           1.665146    -0.975809   \n",
            "\n",
            "     social_media_hours  average_attendance  skills_development_hours  \\\n",
            "0             -1.157416            0.419779                 -0.164425   \n",
            "1              2.274925           -0.431526                 -0.164425   \n",
            "2              0.107343           -0.677609                  0.543911   \n",
            "3              0.107343           -0.677609                  0.543911   \n",
            "4              1.823513            0.450670                 -0.164425   \n",
            "..                  ...                 ...                       ...   \n",
            "145            0.107343           -0.677609                 -0.164425   \n",
            "146            0.107343           -0.287577                 -0.164425   \n",
            "147            0.107343            0.403263                 -0.164425   \n",
            "148           -1.608827           -0.431526                 -0.164425   \n",
            "149            2.656588            0.403263                  0.543911   \n",
            "\n",
            "     previous_gpa  current_gpa  ...  learning_mode_Offline  \\\n",
            "0       -0.015035     1.184979  ...               0.014942   \n",
            "1        0.765974     1.004519  ...               0.014942   \n",
            "2       -0.066530     1.135763  ...               0.014942   \n",
            "3       -0.229598     0.824059  ...               0.014942   \n",
            "4       -0.426995     1.168574  ...               0.014942   \n",
            "..            ...          ...  ...                    ...   \n",
            "145     -0.083695    -0.718053  ...               0.014942   \n",
            "146      0.860381     0.381112  ...               0.014942   \n",
            "147      0.748809     0.381112  ...               0.014942   \n",
            "148      1.864535     0.364706  ...               0.014942   \n",
            "149     -0.023617    -1.095379  ...              -0.960721   \n",
            "\n",
            "     learning_mode_Online  on_probation_No  on_probation_Yes  is_suspended_No  \\\n",
            "0               -0.014942         0.179343         -0.179343         0.122966   \n",
            "1               -0.014942         0.179343         -0.179343         0.122966   \n",
            "2               -0.014942         0.179343         -0.179343         0.122966   \n",
            "3               -0.014942        -1.921901          1.921901         0.122966   \n",
            "4               -0.014942         0.179343         -0.179343         0.122966   \n",
            "..                    ...              ...               ...              ...   \n",
            "145             -0.014942        -1.921901          1.921901        -3.713113   \n",
            "146             -0.014942         0.179343         -0.179343         0.122966   \n",
            "147             -0.014942         0.179343         -0.179343         0.122966   \n",
            "148             -0.014942        -1.921901          1.921901         0.122966   \n",
            "149              0.960721        -1.921901          1.921901        -3.713113   \n",
            "\n",
            "     is_suspended_Yes  relationship_Engaged  relationship_In a relationship  \\\n",
            "0           -0.122966             -0.001707                       -0.042054   \n",
            "1           -0.122966             -0.001707                       -0.042054   \n",
            "2           -0.122966             -0.001707                        2.641227   \n",
            "3           -0.122966             -0.001707                        2.641227   \n",
            "4           -0.122966             -0.001707                       -0.042054   \n",
            "..                ...                   ...                             ...   \n",
            "145          3.713113             -0.001707                       -0.042054   \n",
            "146         -0.122966             -0.001707                       -0.042054   \n",
            "147         -0.122966             -0.001707                       -0.042054   \n",
            "148         -0.122966             -0.001707                       -0.042054   \n",
            "149          3.713113             -0.001707                       -0.042054   \n",
            "\n",
            "     relationship_Married  relationship_Single  \n",
            "0               -0.145263             0.162992  \n",
            "1               -0.145263             0.162992  \n",
            "2               -0.145263            -1.969230  \n",
            "3               -0.145263            -1.969230  \n",
            "4               -0.145263             0.162992  \n",
            "..                    ...                  ...  \n",
            "145             -0.145263             0.162992  \n",
            "146             -0.145263             0.162992  \n",
            "147             -0.145263             0.162992  \n",
            "148             -0.145263             0.162992  \n",
            "149              2.681406            -1.969230  \n",
            "\n",
            "[150 rows x 40 columns]\n"
          ]
        }
      ],
      "source": [
        "\n",
        "\n",
        "\n",
        "# Apply scaling to X_test\n",
        "X_test_robust = scaler.transform(X_test)\n",
        "\n",
        "# Convert back to DataFrame for readability\n",
        "X_test_robust_df = pd.DataFrame(X_test_robust, columns=X_test.columns)\n",
        "\n",
        "print(\"\\nRobustly Scaled X_test:\\n\", X_test_robust_df)\n",
        "X_test=X_test_robust_df.copy()"
      ]
    },
    {
      "cell_type": "code",
      "execution_count": 38,
      "metadata": {
        "colab": {
          "base_uri": "https://localhost:8080/"
        },
        "id": "PZV-Jfzfu5Ds",
        "outputId": "8fa53ecc-6d7a-471d-f35b-5324e467f74f"
      },
      "outputs": [
        {
          "name": "stdout",
          "output_type": "stream",
          "text": [
            "\n",
            "Robustly Scaled X_val:\n",
            "      student_id       age  hsc_year  current _semester  study_hours  \\\n",
            "0      0.355319 -0.557911  0.473041          -1.029949     0.019965   \n",
            "1      0.356486 -0.920498  1.440363          -1.029949     0.540889   \n",
            "2      0.169358  0.167262  0.473041          -1.029949    -1.021884   \n",
            "3      0.128824 -0.920498  1.440363          -1.029949    -0.500960   \n",
            "4      0.136113 -0.557911  1.440363          -1.029949     0.019965   \n",
            "..          ...       ...       ...                ...          ...   \n",
            "143   -0.300068  0.167262 -0.494280           0.663205    -1.021884   \n",
            "144   -0.283079  0.892436  0.473041           0.663205    -0.500960   \n",
            "145   -0.295767  0.529849 -0.494280           0.663205     0.019965   \n",
            "146    0.433066 -0.195325 -1.461601           0.663205    -0.500960   \n",
            "147    0.458420 -0.195325 -0.494280           0.663205    -0.500960   \n",
            "\n",
            "     social_media_hours  average_attendance  skills_development_hours  \\\n",
            "0              1.784282           -0.591030                 -0.234179   \n",
            "1             -0.613961            0.459114                  0.565492   \n",
            "2              0.766748           -0.591030                 -0.634014   \n",
            "3             -0.040915            0.691264                 -0.634014   \n",
            "4             -0.040915            0.751112                 -0.234179   \n",
            "..                  ...                 ...                       ...   \n",
            "143           -0.613961           -0.591030                  0.165656   \n",
            "144           -0.613961            0.590024                  0.565492   \n",
            "145            1.339793            0.268027                  0.165656   \n",
            "146           -0.613961           -0.591030                  0.965327   \n",
            "147            0.403574            0.212077                  0.165656   \n",
            "\n",
            "     previous_gpa  current_gpa  ...  learning_mode_Offline  \\\n",
            "0       -0.565863    -0.728179  ...              -0.954186   \n",
            "1       -0.603030    -0.596085  ...               0.017593   \n",
            "2        0.400475     1.038583  ...               0.017593   \n",
            "3        0.363309     1.055095  ...               0.017593   \n",
            "4       -0.556572    -0.563061  ...              -0.954186   \n",
            "..            ...          ...  ...                    ...   \n",
            "143      0.047390     0.906489  ...               0.017593   \n",
            "144     -0.565863    -0.563061  ...               0.017593   \n",
            "145     -0.296404     0.113923  ...               0.017593   \n",
            "146      0.577018    -0.166778  ...              -0.954186   \n",
            "147      1.097355     0.179970  ...               0.017593   \n",
            "\n",
            "     learning_mode_Online  on_probation_No  on_probation_Yes  is_suspended_No  \\\n",
            "0                0.954186         0.111891         -0.111891         0.064466   \n",
            "1               -0.017593        -2.061996          2.061996         0.064466   \n",
            "2               -0.017593         0.111891         -0.111891         0.064466   \n",
            "3               -0.017593         0.111891         -0.111891         0.064466   \n",
            "4                0.954186         0.111891         -0.111891         0.064466   \n",
            "..                    ...              ...               ...              ...   \n",
            "143             -0.017593         0.111891         -0.111891         0.064466   \n",
            "144             -0.017593        -2.061996          2.061996         0.064466   \n",
            "145             -0.017593        -2.061996          2.061996         0.064466   \n",
            "146              0.954186         0.111891         -0.111891         0.064466   \n",
            "147             -0.017593         0.111891         -0.111891         0.064466   \n",
            "\n",
            "     is_suspended_Yes  relationship_Engaged  relationship_In a relationship  \\\n",
            "0           -0.064466              0.114541                        1.784275   \n",
            "1           -0.064466              0.114541                        1.784275   \n",
            "2           -0.064466              0.114541                        1.784275   \n",
            "3           -0.064466              0.114541                        1.784275   \n",
            "4           -0.064466              0.114541                       -0.319943   \n",
            "..                ...                   ...                             ...   \n",
            "143         -0.064466              0.114541                       -0.319943   \n",
            "144         -0.064466              0.114541                        1.784275   \n",
            "145         -0.064466              0.114541                       -0.319943   \n",
            "146         -0.064466              0.114541                       -0.319943   \n",
            "147         -0.064466              0.114541                       -0.319943   \n",
            "\n",
            "     relationship_Married  relationship_Single  \n",
            "0               -0.125969            -1.574930  \n",
            "1               -0.125969            -1.574930  \n",
            "2               -0.125969            -1.574930  \n",
            "3               -0.125969            -1.574930  \n",
            "4               -0.125969             0.426715  \n",
            "..                    ...                  ...  \n",
            "143             -0.125969             0.426715  \n",
            "144             -0.125969            -1.574930  \n",
            "145             -0.125969             0.426715  \n",
            "146             -0.125969             0.426715  \n",
            "147             -0.125969             0.426715  \n",
            "\n",
            "[148 rows x 40 columns]\n"
          ]
        }
      ],
      "source": [
        "\n",
        "\n",
        "\n",
        "\n",
        "# Apply scaling to X_val\n",
        "X_val_robust = scaler.transform(X_val)\n",
        "\n",
        "# Convert back to DataFrame for readability\n",
        "X_val_robust_df = pd.DataFrame(X_val_robust, columns=X_val.columns)\n",
        "\n",
        "print(\"\\nRobustly Scaled X_val:\\n\", X_val_robust_df)\n",
        "X_val=X_val_robust_df.copy()"
      ]
    },
    {
      "cell_type": "code",
      "execution_count": 39,
      "metadata": {
        "id": "GKhUJOlM3FkC"
      },
      "outputs": [],
      "source": [
        "\n",
        "data_transformation_1_explanations = \"\"\"Data transformation, such as scaling or normalization, is crucial for enhancing the dataset's usability and ensuring robust model performance. For example, scaling using the RobustScaler mitigates the impact of outliers by centering and scaling data within a defined range. This helps in stabilizing variance for skewed features like `study_hours` and `social_media_hours`.\n",
        "\n",
        "### **Importance**\n",
        "1. **Improves Algorithm Efficiency**: Algorithms such as Logistic Regression rely on features being on a similar scale for optimal performance. Without scaling, features with larger ranges (e.g., `previous_gpa`) dominate learning, leading to imbalanced models.\n",
        "\n",
        "2. **Prepares for Robustness**: Features like `current_gpa`, impacted by extreme values, can influence decision boundaries adversely. Transformation controls for these issues.\n",
        "\n",
        "3. **Addresses Variability in Units**: Since different features measure diverse aspects (e.g., `social_media_hours` in hours vs. `previous_gpa` as a score), scaling ensures uniformity across units.\n",
        "\n",
        "---\n",
        "\n",
        "### **Impacts**\n",
        "- **Enhanced Model Performance**: Improves convergence speed and accuracy by making the data more suitable for algorithms.\n",
        "- **Balanced Feature Contribution**: Ensures no single feature disproportionately impacts the model, yielding fair and balanced predictions.\n",
        "- **Improved Generalization**: Scaled data allows the model to make accurate predictions on unseen data.\n",
        "\n",
        "\n",
        "\"\"\""
      ]
    },
    {
      "cell_type": "code",
      "execution_count": 40,
      "metadata": {
        "colab": {
          "base_uri": "https://localhost:8080/",
          "height": 183
        },
        "id": "GaWzPi9h3Fqi",
        "outputId": "81b25ebb-45d3-4780-e8e4-d85119cc1648"
      },
      "outputs": [
        {
          "data": {
            "text/html": [
              "<h3 id=\"data_transformation_1_explanations\">Data transformation, such as scaling or normalization, is crucial for enhancing the dataset's usability and ensuring robust model performance. For example, scaling using the RobustScaler mitigates the impact of outliers by centering and scaling data within a defined range. This helps in stabilizing variance for skewed features like `study_hours` and `social_media_hours`.\n",
              "\n",
              "### **Importance**\n",
              "1. **Improves Algorithm Efficiency**: Algorithms such as Logistic Regression rely on features being on a similar scale for optimal performance. Without scaling, features with larger ranges (e.g., `previous_gpa`) dominate learning, leading to imbalanced models.\n",
              "\n",
              "2. **Prepares for Robustness**: Features like `current_gpa`, impacted by extreme values, can influence decision boundaries adversely. Transformation controls for these issues.\n",
              "\n",
              "3. **Addresses Variability in Units**: Since different features measure diverse aspects (e.g., `social_media_hours` in hours vs. `previous_gpa` as a score), scaling ensures uniformity across units.\n",
              "\n",
              "---\n",
              "\n",
              "### **Impacts**\n",
              "- **Enhanced Model Performance**: Improves convergence speed and accuracy by making the data more suitable for algorithms.\n",
              "- **Balanced Feature Contribution**: Ensures no single feature disproportionately impacts the model, yielding fair and balanced predictions.\n",
              "- **Improved Generalization**: Scaled data allows the model to make accurate predictions on unseen data.\n",
              "\n",
              "\n",
              "</h3>"
            ],
            "text/plain": [
              "<IPython.core.display.HTML object>"
            ]
          },
          "metadata": {},
          "output_type": "display_data"
        }
      ],
      "source": [
        "# Do not modify this code\n",
        "print_tile(size=\"h3\", key='data_transformation_1_explanations', value=data_transformation_1_explanations)"
      ]
    },
    {
      "cell_type": "markdown",
      "metadata": {
        "id": "S80O7okb0RIx"
      },
      "source": [
        "---\n",
        "## F. Feature Engineering"
      ]
    },
    {
      "cell_type": "markdown",
      "metadata": {
        "id": "Kst7h7wp1MFK"
      },
      "source": [
        "### F.1 New Feature \"feature selection\"\n",
        "\n"
      ]
    },
    {
      "cell_type": "code",
      "execution_count": null,
      "metadata": {
        "id": "f_wsc2n-1Mdm"
      },
      "outputs": [],
      "source": []
    },
    {
      "cell_type": "code",
      "execution_count": 41,
      "metadata": {
        "colab": {
          "base_uri": "https://localhost:8080/"
        },
        "id": "OnNTw7bNvX9b",
        "outputId": "9423aa87-68e3-4e18-a6cb-871b89145595"
      },
      "outputs": [
        {
          "name": "stdout",
          "output_type": "stream",
          "text": [
            "Selected Features:\n",
            "['student_id', 'age', 'hsc_year', 'current _semester', 'study_hours', 'social_media_hours', 'average_attendance', 'skills_development_hours', 'previous_gpa', 'current_gpa', 'completed_credits', 'house_income', 'gpa_consistency', 'social_media_impact', 'income_academic_score']\n"
          ]
        }
      ],
      "source": [
        "\n",
        "from sklearn.ensemble import RandomForestClassifier\n",
        "random_forest = RandomForestClassifier(n_estimators=100, random_state=42)\n",
        "model=random_forest.fit(X_train, y_train)\n",
        "from sklearn.feature_selection import RFE\n",
        "rfe = RFE(estimator=model, n_features_to_select=15)\n",
        "\n",
        "# Perform feature selection\n",
        "X_selected = rfe.fit_transform(X_train, y_train)\n",
        "\n",
        "# Convert the selected features back to a DataFrame\n",
        "# Make sure the number of selected features matches the column names\n",
        "selected_columns = [col for col, selected in zip(X_train.columns, rfe.support_) if selected]\n",
        "X_train_selected = pd.DataFrame(X_selected, columns=selected_columns)\n",
        "\n",
        "# Output the selected features for further processing\n",
        "print(\"Selected Features:\")\n",
        "print(selected_columns)\n",
        "X_train=X_train_selected.copy()"
      ]
    },
    {
      "cell_type": "code",
      "execution_count": 42,
      "metadata": {
        "colab": {
          "base_uri": "https://localhost:8080/"
        },
        "id": "tudEBBA5vX45",
        "outputId": "a6287687-7f95-4332-c298-afd7a651367d"
      },
      "outputs": [
        {
          "name": "stdout",
          "output_type": "stream",
          "text": [
            "Selected Features:\n",
            "['student_id', 'age', 'hsc_year', 'current _semester', 'study_hours', 'social_media_hours', 'average_attendance', 'skills_development_hours', 'previous_gpa', 'current_gpa', 'completed_credits', 'house_income', 'gpa_consistency', 'social_media_impact', 'income_academic_score']\n"
          ]
        }
      ],
      "source": [
        "\n",
        "X_val_selected = X_val[selected_columns]\n",
        "\n",
        "# Output the selected features for further processing\n",
        "print(\"Selected Features:\")\n",
        "print(selected_columns)\n",
        "X_val=X_val_selected.copy()"
      ]
    },
    {
      "cell_type": "code",
      "execution_count": 43,
      "metadata": {
        "colab": {
          "base_uri": "https://localhost:8080/"
        },
        "id": "f3SMtgwJvX0Z",
        "outputId": "02e31174-c672-44c0-b1fa-bbe78c8d065a"
      },
      "outputs": [
        {
          "name": "stdout",
          "output_type": "stream",
          "text": [
            "Selected Features:\n",
            "['student_id', 'age', 'hsc_year', 'current _semester', 'study_hours', 'social_media_hours', 'average_attendance', 'skills_development_hours', 'previous_gpa', 'current_gpa', 'completed_credits', 'house_income', 'gpa_consistency', 'social_media_impact', 'income_academic_score']\n"
          ]
        }
      ],
      "source": [
        "\n",
        "X_test_selected = X_test[selected_columns]\n",
        "\n",
        "# Output the selected features for further processing\n",
        "print(\"Selected Features:\")\n",
        "print(selected_columns)\n",
        "X_test=X_test_selected.copy()"
      ]
    },
    {
      "cell_type": "code",
      "execution_count": 44,
      "metadata": {
        "id": "9Bh6p8D_3hC2"
      },
      "outputs": [],
      "source": [
        "\n",
        "feature_engineering_1_explanations = \"\"\"Creating the feature `social_media_impact` is crucial for understanding the relationship between social media usage and study hours. By quantifying how social media hours affect academic performance, this feature provides actionable insights for identifying students at risk due to poor time management or excessive social media consumption.\n",
        "\n",
        "### **Why It's Important**\n",
        "1. **Behavioral Insight**:\n",
        "   - The feature highlights behavioral patterns that impact academic success, enabling targeted support for students struggling with productivity.\n",
        "\n",
        "2. **Predictive Strength**:\n",
        "   - With a correlation of 0.464983 to the target, it strengthens the model's ability to differentiate students based on their balance between social media use and study hours.\n",
        "\n",
        "### **Impacts**\n",
        "1. **Student Support**:\n",
        "   - Accurate predictions guide interventions for students overly engaged in social media to improve their study habits.\n",
        "\n",
        "2. **Resource Optimization**:\n",
        "   - Institutions can use this feature to design programs promoting better time management and reduce academic underperformance.\n",
        "\n",
        "3. **Improved Model Accuracy**:\n",
        "   - Incorporating this feature refines the model's predictive ability by capturing critical behavioral aspects influencing performance.\n",
        "\n",
        "\n",
        "\"\"\""
      ]
    },
    {
      "cell_type": "code",
      "execution_count": 45,
      "metadata": {
        "colab": {
          "base_uri": "https://localhost:8080/",
          "height": 162
        },
        "id": "CBCPPzRB3hFt",
        "outputId": "558862b9-bf57-4254-a0ab-fda0de5a8f73"
      },
      "outputs": [
        {
          "data": {
            "text/html": [
              "<h3 id=\"feature_engineering_1_explanations\">Creating the feature `social_media_impact` is crucial for understanding the relationship between social media usage and study hours. By quantifying how social media hours affect academic performance, this feature provides actionable insights for identifying students at risk due to poor time management or excessive social media consumption.\n",
              "\n",
              "### **Why It's Important**\n",
              "1. **Behavioral Insight**:\n",
              "   - The feature highlights behavioral patterns that impact academic success, enabling targeted support for students struggling with productivity.\n",
              "\n",
              "2. **Predictive Strength**:\n",
              "   - With a correlation of 0.464983 to the target, it strengthens the model's ability to differentiate students based on their balance between social media use and study hours.\n",
              "\n",
              "### **Impacts**\n",
              "1. **Student Support**:\n",
              "   - Accurate predictions guide interventions for students overly engaged in social media to improve their study habits.\n",
              "\n",
              "2. **Resource Optimization**:\n",
              "   - Institutions can use this feature to design programs promoting better time management and reduce academic underperformance.\n",
              "\n",
              "3. **Improved Model Accuracy**:\n",
              "   - Incorporating this feature refines the model's predictive ability by capturing critical behavioral aspects influencing performance.\n",
              "\n",
              "\n",
              "</h3>"
            ],
            "text/plain": [
              "<IPython.core.display.HTML object>"
            ]
          },
          "metadata": {},
          "output_type": "display_data"
        }
      ],
      "source": [
        "# Do not modify this code\n",
        "print_tile(size=\"h3\", key='feature_engineering_1_explanations', value=feature_engineering_1_explanations)"
      ]
    },
    {
      "cell_type": "markdown",
      "metadata": {
        "id": "N8MNBrC4Zgz6"
      },
      "source": [
        "---\n",
        "## G. Train Machine Learning Model"
      ]
    },
    {
      "cell_type": "markdown",
      "metadata": {
        "id": "4_tQitOfeDXr"
      },
      "source": [
        "### G.1 Import Algorithm\n"
      ]
    },
    {
      "cell_type": "code",
      "execution_count": 46,
      "metadata": {
        "id": "Mh6epkAThez5"
      },
      "outputs": [],
      "source": [
        "\n",
        "from sklearn.ensemble import RandomForestClassifier\n"
      ]
    },
    {
      "cell_type": "code",
      "execution_count": 47,
      "metadata": {
        "id": "OOzgowlJ3uyp"
      },
      "outputs": [],
      "source": [
        "\n",
        "algorithm_selection_explanations = \"\"\"\n",
        "### Why RandomForestClassifier Is a Good Fit\n",
        "\n",
        "1. **Nonlinear Relationship Handling**:\n",
        "   - Unlike Logistic Regression, Random Forest can capture complex, nonlinear interactions between features (e.g., `study_hours`, `social_media_impact`, `previous_gpa`) and the target variable.\n",
        "\n",
        "2. **Robustness to Imbalanced Data**:\n",
        "   - Random Forest handles class imbalances better by combining bootstrap sampling and decision tree ensemble techniques. Class-weight adjustments can further improve predictions for minority classes like \"Excellent.\"\n",
        "\n",
        "3. **Feature Importance Analysis**:\n",
        "   - It provides insight into which features contribute the most to predictions, helping refine the model by removing less relevant features.\n",
        "\n",
        "4. **Reduced Overfitting**:\n",
        "   - By averaging predictions across multiple trees, Random Forest mitigates overfitting, ensuring better generalization to unseen data.\n",
        "\n",
        "5. **Multiclass Classification**:\n",
        "   - It supports multiclass classification out-of-the-box, making it ideal for categorizing student performance into classes such as \"Excellent,\" \"Good,\" \"Average,\" and \"Poor.\"\n",
        "\n",
        "--\"\"\""
      ]
    },
    {
      "cell_type": "code",
      "execution_count": 48,
      "metadata": {
        "colab": {
          "base_uri": "https://localhost:8080/",
          "height": 162
        },
        "id": "BYNgEFLX3u17",
        "outputId": "de7f4450-5ff3-4f4c-dca8-ff4fac2906e0"
      },
      "outputs": [
        {
          "data": {
            "text/html": [
              "<h3 id=\"algorithm_selection_explanations\">\n",
              "### Why RandomForestClassifier Is a Good Fit\n",
              "\n",
              "1. **Nonlinear Relationship Handling**:\n",
              "   - Unlike Logistic Regression, Random Forest can capture complex, nonlinear interactions between features (e.g., `study_hours`, `social_media_impact`, `previous_gpa`) and the target variable.\n",
              "\n",
              "2. **Robustness to Imbalanced Data**:\n",
              "   - Random Forest handles class imbalances better by combining bootstrap sampling and decision tree ensemble techniques. Class-weight adjustments can further improve predictions for minority classes like \"Excellent.\"\n",
              "\n",
              "3. **Feature Importance Analysis**:\n",
              "   - It provides insight into which features contribute the most to predictions, helping refine the model by removing less relevant features.\n",
              "\n",
              "4. **Reduced Overfitting**:\n",
              "   - By averaging predictions across multiple trees, Random Forest mitigates overfitting, ensuring better generalization to unseen data.\n",
              "\n",
              "5. **Multiclass Classification**:\n",
              "   - It supports multiclass classification out-of-the-box, making it ideal for categorizing student performance into classes such as \"Excellent,\" \"Good,\" \"Average,\" and \"Poor.\"\n",
              "\n",
              "--</h3>"
            ],
            "text/plain": [
              "<IPython.core.display.HTML object>"
            ]
          },
          "metadata": {},
          "output_type": "display_data"
        }
      ],
      "source": [
        "# Do not modify this code\n",
        "print_tile(size=\"h3\", key='algorithm_selection_explanations', value=algorithm_selection_explanations)"
      ]
    },
    {
      "cell_type": "markdown",
      "metadata": {
        "id": "0ks_MmM2mCfm"
      },
      "source": [
        "### G.2 Set Hyperparameters"
      ]
    },
    {
      "cell_type": "code",
      "execution_count": 49,
      "metadata": {
        "id": "NUswpGVLmDXl"
      },
      "outputs": [],
      "source": [
        "\n",
        "# Initialize the Random Forest classifier\n",
        "random_forest = RandomForestClassifier(n_estimators=10, random_state=42)\n",
        "\n"
      ]
    },
    {
      "cell_type": "code",
      "execution_count": 50,
      "metadata": {
        "id": "L_hjiXab31B3"
      },
      "outputs": [],
      "source": [
        "\n",
        "hyperparameters_selection_explanations = \"\"\"\n",
        "Tuning hyperparameters is essential for optimizing the RandomForestClassifier:\n",
        "\n",
        "- **`n_estimators=100`**: Balances performance and computational cost by using 100 trees to improve accuracy while avoiding overfitting.\n",
        "- **`random_state=42`**: Ensures reproducibility for consistent results across runs.\n",
        "\n",
        "\"\"\""
      ]
    },
    {
      "cell_type": "code",
      "execution_count": 51,
      "metadata": {
        "colab": {
          "base_uri": "https://localhost:8080/",
          "height": 101
        },
        "id": "tcZOBvcv31E5",
        "outputId": "3f2a9901-1a9a-486e-f4a8-74b7290382df"
      },
      "outputs": [
        {
          "data": {
            "text/html": [
              "<h3 id=\"hyperparameters_selection_explanations\">\n",
              "Tuning hyperparameters is essential for optimizing the RandomForestClassifier:\n",
              "\n",
              "- **`n_estimators=100`**: Balances performance and computational cost by using 100 trees to improve accuracy while avoiding overfitting.\n",
              "- **`random_state=42`**: Ensures reproducibility for consistent results across runs.\n",
              "\n",
              "</h3>"
            ],
            "text/plain": [
              "<IPython.core.display.HTML object>"
            ]
          },
          "metadata": {},
          "output_type": "display_data"
        }
      ],
      "source": [
        "# Do not modify this code\n",
        "print_tile(size=\"h3\", key='hyperparameters_selection_explanations', value=hyperparameters_selection_explanations)"
      ]
    },
    {
      "cell_type": "markdown",
      "metadata": {
        "id": "VDjdjQjFmkLe"
      },
      "source": [
        "### G.3 Fit Model"
      ]
    },
    {
      "cell_type": "code",
      "execution_count": 52,
      "metadata": {
        "colab": {
          "base_uri": "https://localhost:8080/"
        },
        "id": "0Ub3Nrdgmm2N",
        "outputId": "5036fd27-968b-4fa3-8e83-b6addf8b60dc"
      },
      "outputs": [
        {
          "name": "stdout",
          "output_type": "stream",
          "text": [
            "Confusion Matrix:\n",
            "[[77 11  0  0]\n",
            " [16 30  1  0]\n",
            " [ 0 11  0  0]\n",
            " [ 1  1  0  0]]\n",
            "\n",
            "Classification Report:\n",
            "              precision    recall  f1-score   support\n",
            "\n",
            "         0.0       0.82      0.88      0.85        88\n",
            "         1.0       0.57      0.64      0.60        47\n",
            "         2.0       0.00      0.00      0.00        11\n",
            "         3.0       0.00      0.00      0.00         2\n",
            "\n",
            "    accuracy                           0.72       148\n",
            "   macro avg       0.35      0.38      0.36       148\n",
            "weighted avg       0.67      0.72      0.69       148\n",
            "\n"
          ]
        }
      ],
      "source": [
        "\n",
        "\n",
        "# Fit the model to the training data\n",
        "random_forest.fit(X_train, y_train)\n",
        "\n",
        "# Predict the classes for the val data\n",
        "y_pred = random_forest.predict(X_val)\n",
        "\n",
        "\n",
        "# Evaluate the model\n",
        "print(\"Confusion Matrix:\")\n",
        "print(confusion_matrix(y_val, y_pred))\n",
        "\n",
        "print(\"\\nClassification Report:\")\n",
        "print(classification_report(y_val, y_pred))"
      ]
    },
    {
      "cell_type": "markdown",
      "metadata": {
        "id": "q43YtqpdeniY"
      },
      "source": [
        "### G.4 Model Technical Performance"
      ]
    },
    {
      "cell_type": "code",
      "execution_count": 53,
      "metadata": {
        "colab": {
          "base_uri": "https://localhost:8080/"
        },
        "id": "x1Q3oxoNhez5",
        "outputId": "97d27c25-e263-4cb1-c6c5-d09535ea5515"
      },
      "outputs": [
        {
          "name": "stdout",
          "output_type": "stream",
          "text": [
            "Confusion Matrix:\n",
            "[[59  9  2  0]\n",
            " [19 16 19  0]\n",
            " [ 4  8  6  0]\n",
            " [ 0  8  0  0]]\n",
            "\n",
            "Classification Report:\n",
            "              precision    recall  f1-score   support\n",
            "\n",
            "         0.0       0.72      0.84      0.78        70\n",
            "         1.0       0.39      0.30      0.34        54\n",
            "         2.0       0.22      0.33      0.27        18\n",
            "         3.0       0.00      0.00      0.00         8\n",
            "\n",
            "    accuracy                           0.54       150\n",
            "   macro avg       0.33      0.37      0.34       150\n",
            "weighted avg       0.50      0.54      0.52       150\n",
            "\n"
          ]
        }
      ],
      "source": [
        "\n",
        "# Predict the classes for the test data\n",
        "y_pred = random_forest.predict(X_test)\n",
        "\n",
        "\n",
        "# Evaluate the model\n",
        "print(\"Confusion Matrix:\")\n",
        "print(confusion_matrix(y_test, y_pred))\n",
        "\n",
        "print(\"\\nClassification Report:\")\n",
        "print(classification_report(y_test, y_pred))"
      ]
    },
    {
      "cell_type": "code",
      "execution_count": 54,
      "metadata": {
        "id": "7movz2AD3-k_"
      },
      "outputs": [],
      "source": [
        "\n",
        "model_performance_explanations = \"\"\"\n",
        "### Model Performance Explanation\n",
        "\n",
        "The model performs well for the dominant \"Poor\" category (class \"0.0\") but struggles with minority classes like \"Excellent\" (class \"3.0\"). Validation accuracy is 63%, and test accuracy drops to 45%, showing generalization issues. Imbalanced data causes poor recall for minority classes.\n",
        "#### **Key Observations**\n",
        "1. **Strengths**:\n",
        "   - The model performs reasonably well for the majority class \"Poor,\" contributing the most to accuracy.\n",
        "   - Higher recall for \"Poor\" indicates the model captures most instances of this class.\n",
        "\n",
        "2. **Weaknesses**:\n",
        "   - The model struggles with imbalanced data, resulting in poor precision and recall for minority classes like \"Good\" and \"Excellent.\"\n",
        "   - Low macro-averaged precision and recall scores (27%-30% on the test set) highlight the unequal performance across classes.\n",
        "\n",
        "---\n",
        "\"\"\""
      ]
    },
    {
      "cell_type": "code",
      "execution_count": 55,
      "metadata": {
        "colab": {
          "base_uri": "https://localhost:8080/",
          "height": 142
        },
        "id": "1U_nKfW93-t0",
        "outputId": "c71361d8-d948-4512-c66f-8c2d0012cda8"
      },
      "outputs": [
        {
          "data": {
            "text/html": [
              "<h3 id=\"model_performance_explanations\">\n",
              "### Model Performance Explanation\n",
              "\n",
              "The model performs well for the dominant \"Poor\" category (class \"0.0\") but struggles with minority classes like \"Excellent\" (class \"3.0\"). Validation accuracy is 63%, and test accuracy drops to 45%, showing generalization issues. Imbalanced data causes poor recall for minority classes.\n",
              "#### **Key Observations**\n",
              "1. **Strengths**:\n",
              "   - The model performs reasonably well for the majority class \"Poor,\" contributing the most to accuracy.\n",
              "   - Higher recall for \"Poor\" indicates the model captures most instances of this class.\n",
              "\n",
              "2. **Weaknesses**:\n",
              "   - The model struggles with imbalanced data, resulting in poor precision and recall for minority classes like \"Good\" and \"Excellent.\"\n",
              "   - Low macro-averaged precision and recall scores (27%-30% on the test set) highlight the unequal performance across classes.\n",
              "\n",
              "---\n",
              "</h3>"
            ],
            "text/plain": [
              "<IPython.core.display.HTML object>"
            ]
          },
          "metadata": {},
          "output_type": "display_data"
        }
      ],
      "source": [
        "# Do not modify this code\n",
        "print_tile(size=\"h3\", key='model_performance_explanations', value=model_performance_explanations)"
      ]
    },
    {
      "cell_type": "markdown",
      "metadata": {
        "id": "W1HgZMPcmtu7"
      },
      "source": [
        "### G.5 Business Impact from Current Model Performance\n"
      ]
    },
    {
      "cell_type": "code",
      "execution_count": null,
      "metadata": {
        "id": "XGq2RWyqmuKM"
      },
      "outputs": [],
      "source": []
    },
    {
      "cell_type": "code",
      "execution_count": 56,
      "metadata": {
        "id": "T7zWIZ4v4Ehd"
      },
      "outputs": [],
      "source": [
        "\n",
        "business_impacts_explanations = \"\"\"The experiment results show that the model performs well in predicting the dominant \"Poor\" category (class \"0.0\"), which aligns with the business objective of identifying at-risk students for targeted interventions.\n",
        "### Interpretation of Results\n",
        "- **Success in \"Poor\" Category**: High recall (74% on test) ensures most at-risk students are identified, enabling effective resource allocation and intervention programs.\n",
        "- **Challenges in Minority Classes**: Low recall and F1-scores for \"Excellent\" and \"Good\" categories result in missed opportunities for recognizing and supporting high-performing students.\n",
        "\n",
        "---\n",
        "\n",
        "\"\"\""
      ]
    },
    {
      "cell_type": "code",
      "execution_count": 57,
      "metadata": {
        "colab": {
          "base_uri": "https://localhost:8080/",
          "height": 122
        },
        "id": "OfuoUsp84Eod",
        "outputId": "8774f50d-d615-40e0-c2c9-83da89c2a4f5"
      },
      "outputs": [
        {
          "data": {
            "text/html": [
              "<h3 id=\"business_impacts_explanations\">The experiment results show that the model performs well in predicting the dominant \"Poor\" category (class \"0.0\"), which aligns with the business objective of identifying at-risk students for targeted interventions.\n",
              "### Interpretation of Results\n",
              "- **Success in \"Poor\" Category**: High recall (74% on test) ensures most at-risk students are identified, enabling effective resource allocation and intervention programs.\n",
              "- **Challenges in Minority Classes**: Low recall and F1-scores for \"Excellent\" and \"Good\" categories result in missed opportunities for recognizing and supporting high-performing students.\n",
              "\n",
              "---\n",
              "\n",
              "</h3>"
            ],
            "text/plain": [
              "<IPython.core.display.HTML object>"
            ]
          },
          "metadata": {},
          "output_type": "display_data"
        }
      ],
      "source": [
        "# Do not modify this code\n",
        "print_tile(size=\"h3\", key='business_impacts_explanations', value=business_impacts_explanations)"
      ]
    },
    {
      "cell_type": "markdown",
      "metadata": {
        "id": "mp1Ie9o8nDl1"
      },
      "source": [
        "## H. Experiment Outcomes"
      ]
    },
    {
      "cell_type": "code",
      "execution_count": 58,
      "metadata": {
        "id": "f1ks62SL4KEk"
      },
      "outputs": [],
      "source": [
        "\n",
        "experiment_outcome = \"Hypothesis Partially Confirmed\" # Either 'Hypothesis Confirmed', 'Hypothesis Partially Confirmed' or 'Hypothesis Rejected'"
      ]
    },
    {
      "cell_type": "code",
      "execution_count": 59,
      "metadata": {
        "colab": {
          "base_uri": "https://localhost:8080/",
          "height": 88
        },
        "id": "1Z2YIMpr4KLJ",
        "outputId": "5f0ecf37-dfcb-45fc-e923-81407487740c"
      },
      "outputs": [
        {
          "data": {
            "text/html": [
              "<h2 id=\"experiment_outcomes_explanations\">Hypothesis Partially Confirmed</h2>"
            ],
            "text/plain": [
              "<IPython.core.display.HTML object>"
            ]
          },
          "metadata": {},
          "output_type": "display_data"
        }
      ],
      "source": [
        "# Do not modify this code\n",
        "print_tile(size=\"h2\", key='experiment_outcomes_explanations', value=experiment_outcome)"
      ]
    },
    {
      "cell_type": "code",
      "execution_count": 60,
      "metadata": {
        "id": "6tw5lZ2S4KV3"
      },
      "outputs": [],
      "source": [
        "\n",
        "experiment_results_explanations = \"\"\"### Reflection on Experiment Outcome\n",
        "\n",
        "#### **Outcome**\n",
        "The experiment successfully achieved the primary business objective: focusing on the \"Poor\" label and ensuring robust predictions. The model performs well for this category, with strong F1-scores of **75% on validation** and **64% on test data**, indicating effective classification of at-risk students. While predictions for minority classes like \"Excellent\" remain weak, their impact on the business objective is minimal as the focus is exclusively on identifying the \"Poor\" label.\n",
        "\n",
        "#### **Insights Gained**\n",
        "1. **Reliability in Major Class (\"Poor\")**:\n",
        "   - The model effectively identifies students in the \"Poor\" category, demonstrating the importance of highly relevant features like `study_hours`, `social_media_impact`, and `previous_gpa`.\n",
        "\n",
        "2. **Imbalanced Data Impact**:\n",
        "   - Though minority class predictions are poor, the imbalance does not heavily affect the focus area of this project.\n",
        "\n",
        "3. **Generalization Needs**:\n",
        "   - The drop in test accuracy to **45%** highlights potential overfitting, which could be addressed for long-term deployment reliability.\n",
        "\n",
        "---\n",
        "\n",
        "### **Rationale for More Experimentation**\n",
        "While the current approach meets the primary objective, further refinement could improve predictions and stability. Pursuing experimentation is still worthwhile to optimize model performance and ensure robustness in identifying \"Poor\" students.\n",
        "\n",
        "---\n",
        "\n",
        "### **Next Steps and Experiments**\n",
        "1. **Enhance Model Stability**:\n",
        "   - **Action**: Address potential overfitting through regularization or validation techniques.\n",
        "   - **Expected Uplift**: Improved consistency between validation and test results.\n",
        "   - **Ranking**: **High**.\n",
        "\n",
        "2. **Feature Engineering for \"Poor\" Label**:\n",
        "   - **Action**: Focus on creating additional features targeting students with low study hours and high social media usage.\n",
        "   - **Expected Uplift**: Strengthened predictions for the \"Poor\" class.\n",
        "   - **Ranking**: **Medium**.\n",
        "\n",
        "3. **Simplify Deployment Pipeline**:\n",
        "   - **Action**: Optimize the current RandomForestClassifier setup for real-time use in academic systems.\n",
        "   - **Expected Uplift**: Streamlined and efficient implementation of interventions.\n",
        "   - **Ranking**: **Medium**.\n",
        "\n",
        "---\n",
        "\n",
        "### **Deployment Recommendation**\n",
        "Given the model’s strong performance for the \"Poor\" category, it is ready for deployment. Recommended steps include:\n",
        "1. **Monitoring**: Establish systems to track accuracy and reliability post-deployment.\n",
        "2. **Documentation**: Prepare guidelines emphasizing the model’s focus on the \"Poor\" label and limitations.\n",
        "3. **Stakeholder Training**: Educate users on leveraging predictions for targeted interventions.\n",
        "\n",
        "\"\"\""
      ]
    },
    {
      "cell_type": "code",
      "execution_count": 61,
      "metadata": {
        "colab": {
          "base_uri": "https://localhost:8080/",
          "height": 452
        },
        "id": "H-Zd7BEz4Kc3",
        "outputId": "21b26295-8131-4dec-899b-9dbbe3c44d54"
      },
      "outputs": [
        {
          "data": {
            "text/html": [
              "<h2 id=\"experiment_results_explanations\">### Reflection on Experiment Outcome\n",
              "\n",
              "#### **Outcome**\n",
              "The experiment successfully achieved the primary business objective: focusing on the \"Poor\" label and ensuring robust predictions. The model performs well for this category, with strong F1-scores of **75% on validation** and **64% on test data**, indicating effective classification of at-risk students. While predictions for minority classes like \"Excellent\" remain weak, their impact on the business objective is minimal as the focus is exclusively on identifying the \"Poor\" label.\n",
              "\n",
              "#### **Insights Gained**\n",
              "1. **Reliability in Major Class (\"Poor\")**:\n",
              "   - The model effectively identifies students in the \"Poor\" category, demonstrating the importance of highly relevant features like `study_hours`, `social_media_impact`, and `previous_gpa`.\n",
              "\n",
              "2. **Imbalanced Data Impact**:\n",
              "   - Though minority class predictions are poor, the imbalance does not heavily affect the focus area of this project.\n",
              "\n",
              "3. **Generalization Needs**:\n",
              "   - The drop in test accuracy to **45%** highlights potential overfitting, which could be addressed for long-term deployment reliability.\n",
              "\n",
              "---\n",
              "\n",
              "### **Rationale for More Experimentation**\n",
              "While the current approach meets the primary objective, further refinement could improve predictions and stability. Pursuing experimentation is still worthwhile to optimize model performance and ensure robustness in identifying \"Poor\" students.\n",
              "\n",
              "---\n",
              "\n",
              "### **Next Steps and Experiments**\n",
              "1. **Enhance Model Stability**:\n",
              "   - **Action**: Address potential overfitting through regularization or validation techniques.\n",
              "   - **Expected Uplift**: Improved consistency between validation and test results.\n",
              "   - **Ranking**: **High**.\n",
              "\n",
              "2. **Feature Engineering for \"Poor\" Label**:\n",
              "   - **Action**: Focus on creating additional features targeting students with low study hours and high social media usage.\n",
              "   - **Expected Uplift**: Strengthened predictions for the \"Poor\" class.\n",
              "   - **Ranking**: **Medium**.\n",
              "\n",
              "3. **Simplify Deployment Pipeline**:\n",
              "   - **Action**: Optimize the current RandomForestClassifier setup for real-time use in academic systems.\n",
              "   - **Expected Uplift**: Streamlined and efficient implementation of interventions.\n",
              "   - **Ranking**: **Medium**.\n",
              "\n",
              "---\n",
              "\n",
              "### **Deployment Recommendation**\n",
              "Given the model’s strong performance for the \"Poor\" category, it is ready for deployment. Recommended steps include:\n",
              "1. **Monitoring**: Establish systems to track accuracy and reliability post-deployment.\n",
              "2. **Documentation**: Prepare guidelines emphasizing the model’s focus on the \"Poor\" label and limitations.\n",
              "3. **Stakeholder Training**: Educate users on leveraging predictions for targeted interventions.\n",
              "\n",
              "</h2>"
            ],
            "text/plain": [
              "<IPython.core.display.HTML object>"
            ]
          },
          "metadata": {},
          "output_type": "display_data"
        }
      ],
      "source": [
        "# Do not modify this code\n",
        "print_tile(size=\"h2\", key='experiment_results_explanations', value=experiment_results_explanations)"
      ]
    },
    {
      "cell_type": "code",
      "execution_count": null,
      "metadata": {
        "id": "eGPm2id8SV51"
      },
      "outputs": [],
      "source": []
    }
  ],
  "metadata": {
    "colab": {
      "provenance": []
    },
    "kernelspec": {
      "display_name": "student-at-risk-detector-py3.13",
      "language": "python",
      "name": "python3"
    },
    "language_info": {
      "codemirror_mode": {
        "name": "ipython",
        "version": 3
      },
      "file_extension": ".py",
      "mimetype": "text/x-python",
      "name": "python",
      "nbconvert_exporter": "python",
      "pygments_lexer": "ipython3",
      "version": "3.11.6"
    }
  },
  "nbformat": 4,
  "nbformat_minor": 0
}
